{
 "cells": [
  {
   "cell_type": "code",
   "execution_count": null,
   "id": "69d3e756",
   "metadata": {},
   "outputs": [],
   "source": [
    "import data_utils\n",
    "import pandas as pd\n",
    "import numpy as np\n",
    "from data_utils import *\n",
    "import os"
   ]
  },
  {
   "cell_type": "markdown",
   "id": "90efbcc3",
   "metadata": {},
   "source": [
    "This dataset is available at Kaggle: 'https://www.kaggle.com/datasets/arunavakrchakraborty/financial-payment-services-fraud-data/download?datasetVersionNumber=1'\n",
    "\n",
    "download and change the the csv file name from fraud.csv to 'bq-results1.csv' or change the file_path name to "
   ]
  },
  {
   "cell_type": "code",
   "execution_count": null,
   "id": "1420e56d",
   "metadata": {},
   "outputs": [],
   "source": []
  },
  {
   "cell_type": "code",
   "execution_count": null,
   "id": "653e0531",
   "metadata": {},
   "outputs": [],
   "source": [
    "#Load data \n",
    "file_path = 'bq-results1.csv'\n",
    "\n",
    "df = load_fraud_data(file_path)"
   ]
  },
  {
   "cell_type": "code",
   "execution_count": null,
   "id": "0f00f171",
   "metadata": {},
   "outputs": [],
   "source": [
    "print(f\"\\nDATA DETAIL\\n\")\n",
    "print(f'Number of Rows: {df.shape[0]}\\nNumber of Columns: {df.shape[1]}\\nData Size(bytes): {os.path.getsize(file_path)}')\n",
    "df.head(10)"
   ]
  },
  {
   "cell_type": "code",
   "execution_count": null,
   "id": "892e770c",
   "metadata": {},
   "outputs": [],
   "source": [
    "print(f'\\nDATA DESCRIPTION')\n",
    "print(df.info())"
   ]
  },
  {
   "cell_type": "code",
   "execution_count": null,
   "id": "6e4c5def",
   "metadata": {},
   "outputs": [],
   "source": [
    "print(f\"\\nDESCRIPTIVE STATISTICS\\n\")\n",
    "df.describe()"
   ]
  },
  {
   "cell_type": "code",
   "execution_count": null,
   "id": "743eefcc",
   "metadata": {},
   "outputs": [],
   "source": [
    "print(f'\\nPERCENTAGE OF MISSING VALUE')\n",
    "df.isna().sum() / len(df) *100"
   ]
  },
  {
   "cell_type": "markdown",
   "id": "54b29c21",
   "metadata": {},
   "source": [
    "All Histogram"
   ]
  },
  {
   "cell_type": "code",
   "execution_count": null,
   "id": "fea13500",
   "metadata": {
    "scrolled": false
   },
   "outputs": [],
   "source": [
    "%matplotlib inline\n",
    "import matplotlib.pyplot as plt\n",
    "df.hist(bins=50, figsize=(20,15))\n",
    "plt.savefig(\"attribute_histogram_plots\")\n",
    "plt.show()\n"
   ]
  },
  {
   "cell_type": "code",
   "execution_count": null,
   "id": "9c13279b",
   "metadata": {},
   "outputs": [],
   "source": [
    "transaction_type_distribution = plot_value_counts(df, 'type')\n",
    "transaction_type_distribution "
   ]
  },
  {
   "cell_type": "code",
   "execution_count": null,
   "id": "79b58a5b",
   "metadata": {},
   "outputs": [],
   "source": [
    "\n",
    "data = df['amount']\n",
    "plot_histogram(df, 'amount')\n",
    "# Generate interpretation\n",
    "print(\"Interpretation of Histogram:\")\n",
    "print(interpret_distribution_(data))\n"
   ]
  },
  {
   "cell_type": "code",
   "execution_count": null,
   "id": "de87cd8f",
   "metadata": {},
   "outputs": [],
   "source": [
    "transaction_time_histogram_fig = plot_trx_histogram(df, 'step', 'amount')\n",
    "transaction_time_histogram_fig.show()\n"
   ]
  },
  {
   "cell_type": "code",
   "execution_count": null,
   "id": "0ac44603",
   "metadata": {},
   "outputs": [],
   "source": [
    "isFraud_distribution =plot_binary_distribution(df, 'isFraud', title = 'Fraud Class Distribution', \n",
    "                                               color_map=None, height=600, width=800)\n",
    "fraud_dist = df['isFraud'].value_counts()\n",
    "print(isFraud_distribution)\n",
    "print(fraud_dist)"
   ]
  },
  {
   "cell_type": "code",
   "execution_count": null,
   "id": "57835180",
   "metadata": {},
   "outputs": [],
   "source": [
    "colors = {0: '#3498DB', 1: '#E74C3C'}\n",
    "plot_overlaid_histograms(df=df, column_name='amount', class_column='isFraud', title='Transaction Amount Distribution by Class', colors=colors)\n",
    "# Generate and print interpretations\n",
    "print(interpret_distributions(df=df, column_name='amount', class_column='isFraud'))\n"
   ]
  },
  {
   "cell_type": "code",
   "execution_count": null,
   "id": "e8d56a87",
   "metadata": {},
   "outputs": [],
   "source": [
    "fraudclass_histogram_fig = plot_fraud_class_histogram(df, 'step', 'amount')\n",
    "fraudclass_histogram_fig.show()\n"
   ]
  },
  {
   "cell_type": "code",
   "execution_count": null,
   "id": "4f1b613d",
   "metadata": {},
   "outputs": [],
   "source": [
    "plot_fraud_class_histogram_2(df, 'step', 'amount')"
   ]
  },
  {
   "cell_type": "code",
   "execution_count": null,
   "id": "bba61a3f",
   "metadata": {},
   "outputs": [],
   "source": [
    "plot_box(df, 'isFraud', 'amount')\n",
    "print(interpret_boxplot(df, 'isFraud', 'amount'))"
   ]
  },
  {
   "cell_type": "code",
   "execution_count": null,
   "id": "2007eebc",
   "metadata": {},
   "outputs": [],
   "source": []
  }
 ],
 "metadata": {
  "kernelspec": {
   "display_name": "Python 3 (ipykernel)",
   "language": "python",
   "name": "python3"
  },
  "language_info": {
   "codemirror_mode": {
    "name": "ipython",
    "version": 3
   },
   "file_extension": ".py",
   "mimetype": "text/x-python",
   "name": "python",
   "nbconvert_exporter": "python",
   "pygments_lexer": "ipython3",
   "version": "3.11.3"
  }
 },
 "nbformat": 4,
 "nbformat_minor": 5
}
